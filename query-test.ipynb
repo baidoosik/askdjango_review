{
 "cells": [
  {
   "cell_type": "code",
   "execution_count": 1,
   "metadata": {},
   "outputs": [
    {
     "data": {
      "text/plain": [
       "<QuerySet [<Post: 보령머드축제>]>"
      ]
     },
     "execution_count": 1,
     "metadata": {},
     "output_type": "execute_result"
    }
   ],
   "source": [
    "Post.objects.all()"
   ]
  },
  {
   "cell_type": "code",
   "execution_count": 2,
   "metadata": {},
   "outputs": [
    {
     "name": "stdout",
     "output_type": "stream",
     "text": [
      "[허스토리 #5] “회사 이전에 사람이 먼저”… ‘째깍악어’가 지향하는 가치 http://platum.kr/archives/84857\n",
      "[Startup’s story #341] 플라이트그래프가 알려주는 항공권의 숨은 이야기 http://platum.kr/archives/84655\n",
      "[Startup’s Story #340] 대세 쇼핑앱 ‘지그재그’ CMO가 말하는 앱마케팅 비결 http://platum.kr/archives/84526\n",
      "[Startup’s story #339] 점을 이어 세계로 가는 선을 긋는 스타트업 ‘닷’ http://platum.kr/archives/84187\n",
      "[Startup’s Story #338] ‘4만원 대 캐리어’로 크라우드펀딩 10000%를 넘긴 기업 ‘샤플’ http://platum.kr/archives/84362\n",
      "[Startup’s story #337] 평범한 사람들의 특별한 창업 이야기를 전한다. ‘비즈업’ http://platum.kr/archives/84062\n",
      "[Startup’s story #336] “아시아 최대 패션1번지는 우리 손으로”, 브리치 http://platum.kr/archives/83045\n",
      "[Startup’s story #335] 마이쿤이 실패를 통해 배운 것 http://platum.kr/archives/82596\n",
      "[허스토리#4] 익숙한 것과 낯선 것을 더해 새로움을 만들다, 룹킨 http://platum.kr/archives/82027\n",
      "[Startup’s Story #334] M&A 전문가가 만든 재구매율 87%의 영유아 쇼핑앱 ‘로로’ http://platum.kr/archives/81931\n"
     ]
    }
   ],
   "source": [
    "import requests as req\n",
    "from bs4 import BeautifulSoup as bfs\n",
    "\n",
    "url = 'http://platum.kr/entrepreneur'\n",
    "\n",
    "html = req.get(url).text\n",
    "\n",
    "soup = bfs(html,'html.parser')\n",
    "\n",
    "result = soup.select('div#page_content_wrapper h5 a')\n",
    "\n",
    "result_list=[]\n",
    "result_dict={}\n",
    "\n",
    "for tag in result:\n",
    "    print(tag['title'],tag['href'])"
   ]
  },
  {
   "cell_type": "code",
   "execution_count": 5,
   "metadata": {
    "collapsed": true
   },
   "outputs": [],
   "source": [
    "# 크롤링한 데이터를 모델에 추가하기\n",
    "for tag in result:\n",
    "    Article.objects.create(title=tag['title'],url=tag['href'])"
   ]
  },
  {
   "cell_type": "code",
   "execution_count": 2,
   "metadata": {},
   "outputs": [
    {
     "name": "stdout",
     "output_type": "stream",
     "text": [
      "[허스토리 #5] “회사 이전에 사람이 먼저”… ‘째깍악어’가 지향하는 가치\n",
      "[Startup’s story #341] 플라이트그래프가 알려주는 항공권의 숨은 이야기\n",
      "[Startup’s Story #340] 대세 쇼핑앱 ‘지그재그’ CMO가 말하는 앱마케팅 비결\n",
      "[Startup’s story #339] 점을 이어 세계로 가는 선을 긋는 스타트업 ‘닷’\n",
      "[Startup’s Story #338] ‘4만원 대 캐리어’로 크라우드펀딩 10000%를 넘긴 기업 ‘샤플’\n",
      "[Startup’s story #337] 평범한 사람들의 특별한 창업 이야기를 전한다. ‘비즈업’\n",
      "[Startup’s story #336] “아시아 최대 패션1번지는 우리 손으로”, 브리치\n",
      "[Startup’s story #335] 마이쿤이 실패를 통해 배운 것\n",
      "[허스토리#4] 익숙한 것과 낯선 것을 더해 새로움을 만들다, 룹킨\n",
      "[Startup’s Story #334] M&A 전문가가 만든 재구매율 87%의 영유아 쇼핑앱 ‘로로’\n"
     ]
    }
   ],
   "source": [
    "for model in Article.objects.all():\n",
    "    print(model)"
   ]
  },
  {
   "cell_type": "markdown",
   "metadata": {
    "collapsed": true
   },
   "source": [
    "# queryset\n",
    "\n",
    "- SQL 을 생성해주는 인터페이스\n",
    "\n",
    "- Model Manager 를 통해, 해당 Model 에 대한 QuerySet 을 획득\n",
    "\n",
    "    • Post.objects.all() 는 \"SELECT * FROM post;\" 와 같은 SQL 을 생성하여, 데이터베이스로의 질의를 수행\n",
    "    \n",
    "    • Post.objects.create(...) 는 \"INSERT INTO ...;\" 와 같은 SQL을 생성하여, 데이터베이스로의 질의를 수행\n",
    "\n",
    "- Chaining 지원 : QuerySet 수행 리턴값이 다시 QuerySet\n",
    "    \n",
    "    "
   ]
  },
  {
   "cell_type": "code",
   "execution_count": 4,
   "metadata": {},
   "outputs": [
    {
     "data": {
      "text/plain": [
       "<QuerySet [<Post: 보령머드축제>, <Post: 한라산>]>"
      ]
     },
     "execution_count": 4,
     "metadata": {},
     "output_type": "execute_result"
    }
   ],
   "source": [
    "# QuerySet을 통한 AND 조회 조건 추가 (Chaining, Lazy)\n",
    "\n",
    "queryset = Post.objects.all()\n",
    "\n",
    "queryset"
   ]
  },
  {
   "cell_type": "code",
   "execution_count": 8,
   "metadata": {},
   "outputs": [
    {
     "data": {
      "text/plain": [
       "<QuerySet [<Post: 한라산>]>"
      ]
     },
     "execution_count": 8,
     "metadata": {},
     "output_type": "execute_result"
    }
   ],
   "source": [
    "queryset.filter(tags='travel',lnglat='127.12,126.12')"
   ]
  },
  {
   "cell_type": "code",
   "execution_count": 9,
   "metadata": {},
   "outputs": [
    {
     "name": "stdout",
     "output_type": "stream",
     "text": [
      "[허스토리 #5] “회사 이전에 사람이 먼저”… ‘째깍악어’가 지향하는 가치\n",
      "[Startup’s story #341] 플라이트그래프가 알려주는 항공권의 숨은 이야기\n",
      "[Startup’s Story #340] 대세 쇼핑앱 ‘지그재그’ CMO가 말하는 앱마케팅 비결\n",
      "[Startup’s story #339] 점을 이어 세계로 가는 선을 긋는 스타트업 ‘닷’\n",
      "[Startup’s Story #338] ‘4만원 대 캐리어’로 크라우드펀딩 10000%를 넘긴 기업 ‘샤플’\n",
      "[Startup’s story #337] 평범한 사람들의 특별한 창업 이야기를 전한다. ‘비즈업’\n",
      "[Startup’s story #336] “아시아 최대 패션1번지는 우리 손으로”, 브리치\n",
      "[Startup’s story #335] 마이쿤이 실패를 통해 배운 것\n",
      "[허스토리#4] 익숙한 것과 낯선 것을 더해 새로움을 만들다, 룹킨\n",
      "[Startup’s Story #334] M&A 전문가가 만든 재구매율 87%의 영유아 쇼핑앱 ‘로로’\n"
     ]
    }
   ],
   "source": [
    "# 실제 데이터 Row 에 접근할 때, 데이터베이스에 쿼리 (Lazy)\n",
    "\n",
    "for queryset in Article.objects.all():\n",
    "    print(queryset)"
   ]
  },
  {
   "cell_type": "code",
   "execution_count": 13,
   "metadata": {},
   "outputs": [
    {
     "name": "stdout",
     "output_type": "stream",
     "text": [
      "[허스토리 #5] “회사 이전에 사람이 먼저”… ‘째깍악어’가 지향하는 가치\n",
      "[허스토리#4] 익숙한 것과 낯선 것을 더해 새로움을 만들다, 룹킨\n"
     ]
    }
   ],
   "source": [
    "# or 조건 지정\n",
    "from django.db.models import Q\n",
    "\n",
    "queryset2 = Article.objects.all()\n",
    "queryset2= queryset2.filter(Q(title__icontains='회사')| Q(url__icontains='82027'))\n",
    "\n",
    "for instance in queryset2:\n",
    "    print(instance)\n"
   ]
  },
  {
   "cell_type": "code",
   "execution_count": 14,
   "metadata": {},
   "outputs": [
    {
     "data": {
      "text/plain": [
       "<QuerySet [<Article: [허스토리 #5] “회사 이전에 사람이 먼저”… ‘째깍악어’가 지향하는 가치>, <Article: [Startup’s story #341] 플라이트그래프가 알려주는 항공권의 숨은 이야기>, <Article: [Startup’s Story #340] 대세 쇼핑앱 ‘지그재그’ CMO가 말하는 앱마케팅 비결>, <Article: [Startup’s story #339] 점을 이어 세계로 가는 선을 긋는 스타트업 ‘닷’>, <Article: [Startup’s Story #338] ‘4만원 대 캐리어’로 크라우드펀딩 10000%를 넘긴 기업 ‘샤플’>]>"
      ]
     },
     "execution_count": 14,
     "metadata": {},
     "output_type": "execute_result"
    }
   ],
   "source": [
    "# 슬라이싱을 이용한 범위 설정\n",
    "queryset = Article.objects.all()\n",
    "\n",
    "queryset[:5]"
   ]
  },
  {
   "cell_type": "code",
   "execution_count": null,
   "metadata": {
    "collapsed": true
   },
   "outputs": [],
   "source": []
  }
 ],
 "metadata": {
  "kernelspec": {
   "display_name": "Django Shell-Plus",
   "language": "python",
   "name": "django_extensions"
  },
  "language_info": {
   "codemirror_mode": {
    "name": "ipython",
    "version": 3
   },
   "file_extension": ".py",
   "mimetype": "text/x-python",
   "name": "python",
   "nbconvert_exporter": "python",
   "pygments_lexer": "ipython3",
   "version": "3.6.0"
  }
 },
 "nbformat": 4,
 "nbformat_minor": 2
}
